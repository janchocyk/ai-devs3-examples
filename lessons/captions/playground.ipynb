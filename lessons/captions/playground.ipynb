{
 "cells": [
  {
   "cell_type": "code",
   "execution_count": 1,
   "metadata": {},
   "outputs": [],
   "source": [
    "import os\n",
    "path = 'article.md'\n",
    "title = 'Lesson #0201 — Audio i interfejs głosowy'\n",
    "\n",
    "with open(path, 'r', encoding='utf-8') as f:\n",
    "    article = f.read()"
   ]
  },
  {
   "cell_type": "code",
   "execution_count": 2,
   "metadata": {},
   "outputs": [],
   "source": [
    "import os\n",
    "import re\n",
    "import requests\n",
    "from typing import List\n",
    "\n",
    "class Image:\n",
    "    def __init__(self, alt, url, context, description, preview, name, file_path):\n",
    "        self.alt = alt\n",
    "        self.url = url\n",
    "        self.context = context\n",
    "        self.description = description\n",
    "        self.preview = preview\n",
    "        self.name = name\n",
    "        self.file_path = file_path\n",
    "\n",
    "def extract_images(article: str, folder_path: str) -> List[Image]:\n",
    "    # Regular expression to match Markdown image syntax\n",
    "    image_regex = re.compile(r'!\\[([^\\]]*)\\]\\(([^)]+)\\)')\n",
    "    matches = image_regex.findall(article)\n",
    "\n",
    "    images = []\n",
    "\n",
    "    # Ensure the folder exists\n",
    "    os.makedirs(folder_path, exist_ok=True)\n",
    "\n",
    "    for alt, url in matches:\n",
    "        try:\n",
    "            name = url.split('/')[-1]\n",
    "            response = requests.get(url, stream=True)\n",
    "            if response.status_code != 200:\n",
    "                print(f\"Failed to fetch {url}: {response.status_code} {response.reason}\")\n",
    "                continue\n",
    "\n",
    "            # Define the path to save the file\n",
    "            file_path = os.path.join(folder_path, name)\n",
    "            \n",
    "            # Save the image to the specified folder\n",
    "            with open(file_path, 'wb') as image_file:\n",
    "                for chunk in response.iter_content(1024):\n",
    "                    image_file.write(chunk)\n",
    "\n",
    "            # Create Image object and append it to the list\n",
    "            images.append(\n",
    "                Image(\n",
    "                    alt=alt,\n",
    "                    url=url,\n",
    "                    context='',\n",
    "                    description='',\n",
    "                    preview='',\n",
    "                    name=name,\n",
    "                    file_path=file_path,\n",
    "                )\n",
    "            )\n",
    "        except Exception as e:\n",
    "            print(f\"Error processing image {url}: {e}\")\n",
    "\n",
    "    return images"
   ]
  },
  {
   "cell_type": "code",
   "execution_count": 3,
   "metadata": {},
   "outputs": [],
   "source": [
    "folder_path = r\"C:\\Users\\Dell\\Documents\\osobiste\\baza\\ai-devs3-examples\\lessons\\captions\\images\"\n",
    "images = extract_images(article, folder_path)"
   ]
  },
  {
   "cell_type": "code",
   "execution_count": 4,
   "metadata": {},
   "outputs": [
    {
     "data": {
      "text/plain": [
       "'C:\\\\Users\\\\Dell\\\\Documents\\\\osobiste\\\\baza\\\\ai-devs3-examples\\\\lessons\\\\captions\\\\images\\\\S02E01-1727094804.png'"
      ]
     },
     "execution_count": 4,
     "metadata": {},
     "output_type": "execute_result"
    }
   ],
   "source": [
    "images[0].file_path"
   ]
  },
  {
   "cell_type": "code",
   "execution_count": 5,
   "metadata": {},
   "outputs": [],
   "source": [
    "from prompts import preview_image_system_message"
   ]
  },
  {
   "cell_type": "code",
   "execution_count": 15,
   "metadata": {},
   "outputs": [
    {
     "name": "stdout",
     "output_type": "stream",
     "text": [
      "{'role': 'system', 'content': 'Generate a brief, factual description of the provided image based solely on its visual content.\\n<prompt_objective>\\nTo produce a concise description of the image that captures its essential visual elements without any additional context, and return it in JSON format.\\n</prompt_objective>\\n<prompt_rules>\\n- ANALYZE the provided image thoroughly, noting key visual elements\\n- GENERATE a brief, single paragraph description\\n- FOCUS on main subjects, colors, composition, and overall style\\n- AVOID speculation or interpretation beyond what is visually apparent\\n- DO NOT reference any external context or information\\n- MAINTAIN a neutral, descriptive tone\\n- RETURN the result in JSON format with only \\'name\\' and \\'preview\\' properties\\n</prompt_rules>\\n<response_format>\\n{{\\n    \"name\": \"filename with extension\",\\n    \"preview\": \"A concise description of the image content\"\\n}}\\n</response_format>\\nProvide a succinct description that gives a clear overview of the image\\'s content based purely on what can be seen, formatted as specified JSON.'}\n"
     ]
    }
   ],
   "source": [
    "print(preview_image_system_message)"
   ]
  },
  {
   "cell_type": "code",
   "execution_count": 6,
   "metadata": {},
   "outputs": [],
   "source": [
    "import base64\n",
    "# Function to encode the image\n",
    "def encode_image(image_path):\n",
    "  with open(image_path, \"rb\") as image_file:\n",
    "    return base64.b64encode(image_file.read()).decode('utf-8')"
   ]
  },
  {
   "cell_type": "code",
   "execution_count": 16,
   "metadata": {},
   "outputs": [],
   "source": [
    "user_message_content = f\"Describe the image {images[0].name} concisely. Focus on the main elements and overall composition. Return the result in JSON format with only 'name' and 'preview' properties.\"\n",
    "messages = [\n",
    "    {\n",
    "        \"role\": \"system\", \n",
    "        \"content\": preview_image_system_message.get('content')\n",
    "    },\n",
    "    {\n",
    "        \"role\": \"user\", \n",
    "        \"content\": [\n",
    "            {\n",
    "                \"type\": \"text\", \n",
    "                \"text\": user_message_content\n",
    "            },\n",
    "            {\n",
    "                \"type\": \"image_url\",\n",
    "                \"image_url\":\n",
    "                {\n",
    "                    \"url\": f\"data:image/jpeg;base64,{encode_image(images[0].file_path)}\",\n",
    "                },\n",
    "            },\n",
    "        ]\n",
    "    },\n",
    "]"
   ]
  },
  {
   "cell_type": "code",
   "execution_count": 17,
   "metadata": {},
   "outputs": [],
   "source": [
    "model_config = {\n",
    "        \"messages\": messages,\n",
    "        \"model\": \"gpt-4o-mini\",\n",
    "        \"json_mode\": True,\n",
    "        \"name\": \"captions: preview_image\"\n",
    "    }"
   ]
  },
  {
   "cell_type": "code",
   "execution_count": 18,
   "metadata": {},
   "outputs": [],
   "source": [
    "from openai_service import OpenAIService\n",
    "\n",
    "llm_service = OpenAIService()\n",
    "resp = llm_service.completion(model_config)"
   ]
  },
  {
   "cell_type": "code",
   "execution_count": 19,
   "metadata": {},
   "outputs": [
    {
     "data": {
      "text/plain": [
       "ChatCompletion(id='chatcmpl-AVdrEBs1sNMoIeX4y38aQTwYoLK7o', choices=[Choice(finish_reason='stop', index=0, logprobs=None, message=ChatCompletionMessage(content='```json\\n{\\n    \"name\": \"S02E01-1727094804.png\",\\n    \"preview\": \"The image features a large microphone at the center, surrounded by vibrant green smoke and abstract digital elements. A figure in a dark cloak stands in front of the microphone, creating a contrast against the lighter background. The overall composition blends technology and a mystical atmosphere, with a focus on the microphone as the main subject.\"\\n}\\n```', refusal=None, role='assistant', audio=None, function_call=None, tool_calls=None))], created=1732104744, model='gpt-4o-mini-2024-07-18', object='chat.completion', service_tier=None, system_fingerprint='fp_3de1288069', usage=CompletionUsage(completion_tokens=89, prompt_tokens=48433, total_tokens=48522, completion_tokens_details=CompletionTokensDetails(accepted_prediction_tokens=0, audio_tokens=0, reasoning_tokens=0, rejected_prediction_tokens=0), prompt_tokens_details=PromptTokensDetails(audio_tokens=0, cached_tokens=0)))"
      ]
     },
     "execution_count": 19,
     "metadata": {},
     "output_type": "execute_result"
    }
   ],
   "source": [
    "resp"
   ]
  },
  {
   "cell_type": "code",
   "execution_count": null,
   "metadata": {},
   "outputs": [
    {
     "name": "stdout",
     "output_type": "stream",
     "text": [
      "Choice(finish_reason='stop', index=0, logprobs=None, message=ChatCompletionMessage(content='The image features a large microphone surrounded by vibrant green smoke or abstract patterns. In the foreground, there’s a figure in a dark cloak standing in front of the microphone, contributing to a surreal, atmospheric feel. The overall color scheme emphasizes greens and blacks, creating a striking visual contrast.', refusal=None, role='assistant', audio=None, function_call=None, tool_calls=None))\n"
     ]
    }
   ],
   "source": [
    "import base64\n",
    "from openai import OpenAI\n",
    "\n",
    "client = OpenAI()\n",
    "\n",
    "# Function to encode the image\n",
    "def encode_image(image_path):\n",
    "  with open(image_path, \"rb\") as image_file:\n",
    "    return base64.b64encode(image_file.read()).decode('utf-8')\n",
    "\n",
    "# Path to your image\n",
    "\n",
    "# Getting the base64 string\n",
    "base64_image = encode_image(images[0].file_path)\n",
    "\n",
    "response = client.chat.completions.create(\n",
    "  model=\"gpt-4o-mini\",\n",
    "  messages=[\n",
    "    {\n",
    "        \"role\": \"system\", \n",
    "        \"content\": \"Bądź grzeczny\"\n",
    "    },\n",
    "    {\n",
    "      \"role\": \"user\",\n",
    "      \"content\": [\n",
    "        {\n",
    "          \"type\": \"text\",\n",
    "          \"text\": \"What is in this image?\",\n",
    "        },\n",
    "        {\n",
    "          \"type\": \"image_url\",\n",
    "          \"image_url\": {\n",
    "            \"url\":  f\"data:image/jpeg;base64,{base64_image}\"\n",
    "          },\n",
    "        },\n",
    "      ],\n",
    "    }\n",
    "  ],\n",
    ")\n",
    "\n",
    "print(response.choices[0])"
   ]
  }
 ],
 "metadata": {
  "kernelspec": {
   "display_name": ".venv",
   "language": "python",
   "name": "python3"
  },
  "language_info": {
   "codemirror_mode": {
    "name": "ipython",
    "version": 3
   },
   "file_extension": ".py",
   "mimetype": "text/x-python",
   "name": "python",
   "nbconvert_exporter": "python",
   "pygments_lexer": "ipython3",
   "version": "3.9.5"
  }
 },
 "nbformat": 4,
 "nbformat_minor": 2
}
